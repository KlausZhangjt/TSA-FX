{
 "cells": [
  {
   "cell_type": "code",
   "execution_count": 154,
   "id": "84bbbd06",
   "metadata": {},
   "outputs": [],
   "source": [
    "import pandas as pd\n",
    "import matplotlib.pyplot as plt\n",
    "from sklearn.preprocessing import MinMaxScaler\n",
    "from keras.layers import LSTM\n",
    "from keras.layers import Dense\n",
    "from keras.models import Sequential\n",
    "from sklearn.metrics import mean_squared_error\n",
    "import numpy as np\n",
    "import math\n",
    "import torch\n",
    " \n",
    "# 数据的差分转换\n",
    "def difference(data_set,interval=1):\n",
    "    diff=list()\n",
    "    for i in range(interval,len(data_set)):\n",
    "        value=data_set[i]-data_set[i-interval]\n",
    "        diff.append(value)\n",
    "    return pd.Series(diff)\n",
    " \n",
    "# 对预测的数据进行逆差分转换\n",
    "def invert_difference(history,yhat,interval=1):\n",
    "    return yhat+history[-interval]\n",
    " \n",
    "# 将数据转换为监督学习集，移位后产生的NaN值补0\n",
    "def timeseries_to_supervised(data,lag=1):\n",
    "    df=pd.DataFrame(data)\n",
    "    columns=[df.shift(i) for i in range(1,lag+1)]\n",
    "    columns.append(df)\n",
    "    df=pd.concat(columns,axis=1)\n",
    "    df.fillna(0,inplace=True)\n",
    "    return df\n",
    " \n",
    "# 将数据缩放到[-1,1]之间\n",
    "def scale(train,test):\n",
    "    # 创建一个缩放器，将数据集中的数据缩放到[-1,1]的取值范围中\n",
    "    scaler=MinMaxScaler(feature_range=(-1,1))\n",
    "    # 使用数据来训练缩放器\n",
    "    scaler=scaler.fit(train)\n",
    "    # 使用缩放器来将训练集和测试集进行缩放\n",
    "    train_scaled=scaler.transform(train)\n",
    "    test_scaled=scaler.transform(test)\n",
    "    return scaler,train_scaled,test_scaled\n",
    " \n",
    "# 将预测值进行逆缩放，使用之前训练好的缩放器，x为一维数组，y为实数\n",
    "def invert_scale(scaler,X,y):\n",
    "    # 将X,y转换为一个list列表\n",
    "    new_row=[x for x in X]+[y]\n",
    "    # 将列表转换为数组\n",
    "    array=np.array(new_row)\n",
    "    # 将数组重构成一个形状为[1,2]的二维数组->[[10,12]]\n",
    "    array=array.reshape(1,len(array))\n",
    "    # 逆缩放输入的形状为[1,2]，输出形状也是如此\n",
    "    invert=scaler.inverse_transform(array)\n",
    "    # 只需要返回y值即可\n",
    "    return invert[0,-1]\n",
    " \n",
    "# 构建一个LSTM模型\n",
    "def fit_lstm(train,batch_size,nb_epoch,neurons):\n",
    "    # 将数据对中的x和y分开\n",
    "    X,y=train[:,0:-1],train[:,-1]\n",
    "    # 将2D数据拼接成3D数据，形状为[N*1*1]\n",
    "    X=X.reshape(X.shape[0],1,X.shape[1])\n",
    " \n",
    "    model=Sequential()\n",
    "    model.add(LSTM(neurons,batch_input_shape=(batch_size,X.shape[1],X.shape[2]),stateful=True))\n",
    "    model.add(Dense(1))\n",
    " \n",
    "    model.compile(loss='mean_squared_error',optimizer='adam')\n",
    "    for i in range(nb_epoch):\n",
    "        # shuffle是不混淆数据顺序\n",
    "        his=model.fit(X,y,batch_size=batch_size,verbose=1,shuffle=False)\n",
    "        # 每训练完一次就重置一次网络状态，网络状态与网络权重不同\n",
    "        model.reset_states()\n",
    "    return model\n",
    " \n",
    "# 开始单步预测\n",
    "def forecast_lstm(model,batch_size,X):\n",
    "    # 将形状为[1:]的，包含一个元素的一维数组X，转换形状为[1,1,1]的3D张量\n",
    "    X=X.reshape(1,1,len(X))\n",
    "    # 输出形状为1行一列的二维数组yhat\n",
    "    yhat=model.predict(X,batch_size=batch_size)\n",
    "    # 将yhat中的结果返回\n",
    "    return yhat[0,0]\n"
   ]
  },
  {
   "cell_type": "code",
   "execution_count": 155,
   "id": "015b085e",
   "metadata": {},
   "outputs": [],
   "source": [
    "import numpy as np\n",
    "import pandas as pd\n",
    "from sklearn.preprocessing import StandardScaler\n",
    "\n",
    "\n",
    "def process(path):\n",
    "    \"\"\"\n",
    "    pre-processing TRI data\n",
    "    for train set (1997-2020): 1.eliminate extreme values; 2. standardization\n",
    "    for test set (2020-2022): rolling window standardization\n",
    "    \"\"\"\n",
    "    df = pd.read_csv(path)\n",
    "    tri = df.tri.values\n",
    "    split_node = df[df['timestamp'].str.contains('2019')].index[-1]\n",
    "    train = tri[:split_node+1]\n",
    "    test = tri[split_node+1:]\n",
    "    train = process_extreme_MAD(train).reshape(-1, 1)\n",
    "    scaler = StandardScaler()\n",
    "    scaler.fit(train)\n",
    "    train = scaler.transform(train)\n",
    "    test = rolling_standard(train.ravel(), test)\n",
    "    return train, test\n",
    "    \n",
    "    \n",
    "def process_extreme_MAD(array, n=3):\n",
    "    \"\"\"\n",
    "    Deal with extreme values, use MAD method\n",
    "    \"\"\"\n",
    "    mid = np.median(array)\n",
    "    mid1 = np.median(np.abs(array - mid))\n",
    "    maximum = mid + n * mid1\n",
    "    minimum = mid - n * mid1\n",
    "    return np.clip(array, minimum, maximum)\n",
    "    \n",
    "\n",
    "def rolling_standard(pre, cur, n=60):\n",
    "    \"\"\"\n",
    "    rolling window standardization\n",
    "    \"\"\"\n",
    "    new = np.concatenate([pre[-(n-1):], cur])\n",
    "    df = pd.DataFrame(new)\n",
    "    mean = df.rolling(n).apply(np.mean)\n",
    "    std = df.rolling(n).apply(np.std)\n",
    "    df1 = (df - mean) / std\n",
    "    return df1[(n-1):].values\n",
    "path = '/Users/wangsizhe/Desktop/AUD_v2.csv'\n",
    "train,test = process(path)\n",
    "training_set_scaled = train\n",
    "testing_set_scaled = test"
   ]
  },
  {
   "cell_type": "code",
   "execution_count": 137,
   "id": "f2db42b4",
   "metadata": {},
   "outputs": [],
   "source": [
    "training_set_scaled = training_set_scaled.reshape(1,-1)"
   ]
  },
  {
   "cell_type": "code",
   "execution_count": 138,
   "id": "735cb628",
   "metadata": {},
   "outputs": [],
   "source": [
    "training_set_scaled = np.diff(training_set_scaled[0])\n",
    "training_set_scaled = training_set_scaled.reshape(-1,1)"
   ]
  },
  {
   "cell_type": "code",
   "execution_count": 139,
   "id": "2f817a69",
   "metadata": {},
   "outputs": [],
   "source": [
    "testing_set_scaled = training_set_scaled.reshape(1,-1)\n",
    "testing_set_scaled = np.diff(testing_set_scaled[0])\n",
    "testing_set_scaled = testing_set_scaled.reshape(-1,1)"
   ]
  },
  {
   "cell_type": "code",
   "execution_count": 140,
   "id": "630bc0b3",
   "metadata": {},
   "outputs": [
    {
     "data": {
      "text/plain": [
       "array([[-0.00969152],\n",
       "       [ 0.01645581],\n",
       "       [-0.01007288],\n",
       "       ...,\n",
       "       [ 0.02077738],\n",
       "       [-0.01759495],\n",
       "       [ 0.00048735]])"
      ]
     },
     "execution_count": 140,
     "metadata": {},
     "output_type": "execute_result"
    }
   ],
   "source": [
    "testing_set_scaled"
   ]
  },
  {
   "cell_type": "code",
   "execution_count": 156,
   "id": "10ea59b9",
   "metadata": {},
   "outputs": [],
   "source": [
    "supervised=timeseries_to_supervised(training_set_scaled,1)\n",
    "supervised_value=supervised.values"
   ]
  },
  {
   "cell_type": "code",
   "execution_count": 157,
   "id": "b7a8ab67",
   "metadata": {},
   "outputs": [],
   "source": [
    "supervised0=timeseries_to_supervised(testing_set_scaled,1)\n",
    "supervised0_value=supervised0.values"
   ]
  },
  {
   "cell_type": "code",
   "execution_count": 158,
   "id": "fc8621b9",
   "metadata": {},
   "outputs": [
    {
     "data": {
      "text/html": [
       "<div>\n",
       "<style scoped>\n",
       "    .dataframe tbody tr th:only-of-type {\n",
       "        vertical-align: middle;\n",
       "    }\n",
       "\n",
       "    .dataframe tbody tr th {\n",
       "        vertical-align: top;\n",
       "    }\n",
       "\n",
       "    .dataframe thead th {\n",
       "        text-align: right;\n",
       "    }\n",
       "</style>\n",
       "<table border=\"1\" class=\"dataframe\">\n",
       "  <thead>\n",
       "    <tr style=\"text-align: right;\">\n",
       "      <th></th>\n",
       "      <th>0</th>\n",
       "      <th>0</th>\n",
       "    </tr>\n",
       "  </thead>\n",
       "  <tbody>\n",
       "    <tr>\n",
       "      <th>0</th>\n",
       "      <td>0.000000</td>\n",
       "      <td>-0.645802</td>\n",
       "    </tr>\n",
       "    <tr>\n",
       "      <th>1</th>\n",
       "      <td>-0.645802</td>\n",
       "      <td>-0.643329</td>\n",
       "    </tr>\n",
       "    <tr>\n",
       "      <th>2</th>\n",
       "      <td>-0.643329</td>\n",
       "      <td>-0.650549</td>\n",
       "    </tr>\n",
       "    <tr>\n",
       "      <th>3</th>\n",
       "      <td>-0.650549</td>\n",
       "      <td>-0.641312</td>\n",
       "    </tr>\n",
       "    <tr>\n",
       "      <th>4</th>\n",
       "      <td>-0.641312</td>\n",
       "      <td>-0.642148</td>\n",
       "    </tr>\n",
       "    <tr>\n",
       "      <th>...</th>\n",
       "      <td>...</td>\n",
       "      <td>...</td>\n",
       "    </tr>\n",
       "    <tr>\n",
       "      <th>5940</th>\n",
       "      <td>0.583811</td>\n",
       "      <td>0.583028</td>\n",
       "    </tr>\n",
       "    <tr>\n",
       "      <th>5941</th>\n",
       "      <td>0.583028</td>\n",
       "      <td>0.585431</td>\n",
       "    </tr>\n",
       "    <tr>\n",
       "      <th>5942</th>\n",
       "      <td>0.585431</td>\n",
       "      <td>0.608613</td>\n",
       "    </tr>\n",
       "    <tr>\n",
       "      <th>5943</th>\n",
       "      <td>0.608613</td>\n",
       "      <td>0.614199</td>\n",
       "    </tr>\n",
       "    <tr>\n",
       "      <th>5944</th>\n",
       "      <td>0.614199</td>\n",
       "      <td>0.620273</td>\n",
       "    </tr>\n",
       "  </tbody>\n",
       "</table>\n",
       "<p>5945 rows × 2 columns</p>\n",
       "</div>"
      ],
      "text/plain": [
       "             0         0\n",
       "0     0.000000 -0.645802\n",
       "1    -0.645802 -0.643329\n",
       "2    -0.643329 -0.650549\n",
       "3    -0.650549 -0.641312\n",
       "4    -0.641312 -0.642148\n",
       "...        ...       ...\n",
       "5940  0.583811  0.583028\n",
       "5941  0.583028  0.585431\n",
       "5942  0.585431  0.608613\n",
       "5943  0.608613  0.614199\n",
       "5944  0.614199  0.620273\n",
       "\n",
       "[5945 rows x 2 columns]"
      ]
     },
     "execution_count": 158,
     "metadata": {},
     "output_type": "execute_result"
    }
   ],
   "source": [
    "supervised"
   ]
  },
  {
   "cell_type": "code",
   "execution_count": 159,
   "id": "23a6a554",
   "metadata": {},
   "outputs": [],
   "source": [
    "train = supervised_value\n",
    "test = supervised0_value"
   ]
  },
  {
   "cell_type": "code",
   "execution_count": 160,
   "id": "9301e3a6",
   "metadata": {},
   "outputs": [],
   "source": [
    "train = train[1:,:]\n",
    "test = test[1:,:]"
   ]
  },
  {
   "cell_type": "code",
   "execution_count": 185,
   "id": "360e2db7",
   "metadata": {},
   "outputs": [
    {
     "name": "stdout",
     "output_type": "stream",
     "text": [
      "5944/5944 [==============================] - 4s 584us/step - loss: 0.0033\n"
     ]
    }
   ],
   "source": [
    "lstm_model=fit_lstm(train,1,1,40)"
   ]
  },
  {
   "cell_type": "code",
   "execution_count": 186,
   "id": "4f70a571",
   "metadata": {},
   "outputs": [
    {
     "data": {
      "text/plain": [
       "array([[-0.6458015 , -0.64332926],\n",
       "       [-0.64332926, -0.65054854],\n",
       "       [-0.65054854, -0.64131201],\n",
       "       ...,\n",
       "       [ 0.58543138,  0.60861261],\n",
       "       [ 0.60861261,  0.61419889],\n",
       "       [ 0.61419889,  0.62027252]])"
      ]
     },
     "execution_count": 186,
     "metadata": {},
     "output_type": "execute_result"
    }
   ],
   "source": [
    "train"
   ]
  },
  {
   "cell_type": "code",
   "execution_count": 187,
   "id": "55271af8",
   "metadata": {},
   "outputs": [
    {
     "name": "stdout",
     "output_type": "stream",
     "text": [
      "555/555 [==============================] - 0s 379us/step\n"
     ]
    }
   ],
   "source": [
    "X,y=test[:,0:1],test[:,-1]\n",
    "X=X.reshape(X.shape[0],1,X.shape[1])\n",
    "    # X=X.reshape(X.shape[0],1,X.shape[1])\n",
    "yhat=lstm_model.predict(X,batch_size=1)"
   ]
  },
  {
   "cell_type": "code",
   "execution_count": 188,
   "id": "13409d95",
   "metadata": {},
   "outputs": [],
   "source": [
    "pred = yhat"
   ]
  },
  {
   "cell_type": "code",
   "execution_count": 189,
   "id": "b490279d",
   "metadata": {},
   "outputs": [],
   "source": [
    "raw_value = test[:,0]\n",
    "pred = pred.reshape(1,-1)"
   ]
  },
  {
   "cell_type": "code",
   "execution_count": 190,
   "id": "00d367b8",
   "metadata": {},
   "outputs": [],
   "source": [
    "pred = pred[0]"
   ]
  },
  {
   "cell_type": "code",
   "execution_count": 191,
   "id": "d1a693e6",
   "metadata": {},
   "outputs": [
    {
     "data": {
      "text/plain": [
       "555"
      ]
     },
     "execution_count": 191,
     "metadata": {},
     "output_type": "execute_result"
    }
   ],
   "source": [
    "len(raw_value)"
   ]
  },
  {
   "cell_type": "code",
   "execution_count": 192,
   "id": "90a8fa13",
   "metadata": {},
   "outputs": [
    {
     "name": "stdout",
     "output_type": "stream",
     "text": [
      "Test RMSE: 0.8602039242098436\n"
     ]
    },
    {
     "data": {
      "image/png": "[encoded data removed]",
      "text/plain": [
       "<Figure size 432x288 with 1 Axes>"
      ]
     },
     "metadata": {
      "needs_background": "light"
     },
     "output_type": "display_data"
    }
   ],
   "source": [
    "pred = yhat\n",
    "raw_value = test[:,0]\n",
    "pred = pred.reshape(1,-1)\n",
    "pred = pred[0]\n",
    "rmse=mean_squared_error(raw_value,pred)\n",
    "print(\"Test MSE:\",rmse)\n",
    "plt.plot(raw_value)\n",
    "plt.plot(pred)\n",
    "plt.legend(['true','pred'])\n",
    "plt.show()"
   ]
  },
  {
   "cell_type": "code",
   "execution_count": 193,
   "id": "53d22a9a",
   "metadata": {},
   "outputs": [],
   "source": [
    "a = pred\n",
    "b = raw_value\n",
    "out = np.logical_or(\n",
    "                    np.logical_and((a < 0),(b < 0)), \n",
    "                    np.logical_and((a > 0),(b > 0))\n",
    "                                             )"
   ]
  },
  {
   "cell_type": "code",
   "execution_count": 196,
   "id": "0ee3ed68",
   "metadata": {},
   "outputs": [
    {
     "data": {
      "text/plain": [
       "0.8936936936936937"
      ]
     },
     "execution_count": 196,
     "metadata": {},
     "output_type": "execute_result"
    }
   ],
   "source": [
    "sum(out)/len(a)"
   ]
  },
  {
   "cell_type": "code",
   "execution_count": null,
   "id": "f830e75c",
   "metadata": {},
   "outputs": [],
   "source": []
  }
 ],
 "metadata": {
  "kernelspec": {
   "display_name": "Python 3",
   "language": "python",
   "name": "python3"
  },
  "language_info": {
   "codemirror_mode": {
    "name": "ipython",
    "version": 3
   },
   "file_extension": ".py",
   "mimetype": "text/x-python",
   "name": "python",
   "nbconvert_exporter": "python",
   "pygments_lexer": "ipython3",
   "version": "3.8.16"
  }
 },
 "nbformat": 4,
 "nbformat_minor": 5
}
