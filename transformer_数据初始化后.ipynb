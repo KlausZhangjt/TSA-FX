{
  "nbformat": 4,
  "nbformat_minor": 0,
  "metadata": {
    "colab": {
      "provenance": []
    },
    "kernelspec": {
      "name": "python3",
      "display_name": "Python 3"
    },
    "language_info": {
      "name": "python"
    },
    "accelerator": "GPU",
    "gpuClass": "standard"
  },
  "cells": [
    {
      "cell_type": "code",
      "execution_count": 1,
      "metadata": {
        "colab": {
          "base_uri": "https://localhost:8080/"
        },
        "id": "ZFIkuZWkBfjT",
        "outputId": "73085f11-fa3e-443b-a433-0935637de0a8"
      },
      "outputs": [
        {
          "output_type": "stream",
          "name": "stdout",
          "text": [
            "Mounted at /content/drive\n"
          ]
        }
      ],
      "source": [
        "# google drive\n",
        "from google.colab import drive\n",
        "drive.mount('/content/drive')\n",
        "dirpath = \"/content/drive/MyDrive/5053/\""
      ]
    },
    {
      "cell_type": "code",
      "source": [
        "import pandas as pd\n",
        "import torch\n",
        "import torch.nn as nn\n",
        "import numpy as np\n",
        "import time\n",
        "import math\n",
        "import matplotlib.pyplot as plt\n",
        "from sklearn.metrics import mean_squared_error\n",
        "import os\n",
        "os.environ[\"KMP_DUPLICATE_LIB_OK\"] = \"TRUE\"\n",
        "torch.manual_seed(0)\n",
        "np.random.seed(0)"
      ],
      "metadata": {
        "id": "Xwg4zd5MBu_2"
      },
      "execution_count": 82,
      "outputs": []
    },
    {
      "cell_type": "code",
      "source": [
        "import numpy as np\n",
        "import pandas as pd\n",
        "from sklearn.preprocessing import StandardScaler\n",
        "\n",
        "\n",
        "def process(path):\n",
        "    \"\"\"\n",
        "    pre-processing TRI data\n",
        "    for train set (1997-2020): 1.eliminate extreme values; 2. standardization\n",
        "    for test set (2020-2022): rolling window standardization\n",
        "    \"\"\"\n",
        "    df = pd.read_csv(path)\n",
        "    tri = df.tri.values\n",
        "    split_node = df[df['timestamp'].str.contains('2019')].index[-1]\n",
        "    train = tri[:split_node+1]\n",
        "    test = tri[split_node+1:]\n",
        "    train = process_extreme_MAD(train).reshape(-1, 1)\n",
        "    scaler = StandardScaler()\n",
        "    scaler.fit(train)\n",
        "    train = scaler.transform(train)\n",
        "    test = rolling_standard(train.ravel(), test)\n",
        "    return train, test\n",
        "    \n",
        "    \n",
        "def process_extreme_MAD(array, n=3):\n",
        "    \"\"\"\n",
        "    Deal with extreme values, use MAD method\n",
        "    \"\"\"\n",
        "    mid = np.median(array)\n",
        "    mid1 = np.median(np.abs(array - mid))\n",
        "    maximum = mid + n * mid1\n",
        "    minimum = mid - n * mid1\n",
        "    return np.clip(array, minimum, maximum)\n",
        "    \n",
        "\n",
        "def rolling_standard(pre, cur, n=60):\n",
        "    \"\"\"\n",
        "    rolling window standardization\n",
        "    \"\"\"\n",
        "    new = np.concatenate([pre[-(n-1):], cur])\n",
        "    df = pd.DataFrame(new)\n",
        "    mean = df.rolling(n).apply(np.mean)\n",
        "    std = df.rolling(n).apply(np.std)\n",
        "    df1 = (df - mean) / std\n",
        "    return df1[(n-1):].values"
      ],
      "metadata": {
        "id": "OUTnn0BSnn82"
      },
      "execution_count": 83,
      "outputs": []
    },
    {
      "cell_type": "code",
      "source": [
        "calculate_loss_over_all_values = False\n",
        "input_window = 45\n",
        "output_window = 5\n",
        "batch_size = 20 # batch size\n",
        "device = torch.device(\"cuda\" if torch.cuda.is_available() else \"mps\")\n",
        "print(device)\n",
        "\n",
        "def get_batch(d,i,num):\n",
        "    \"\"\"用于获得每个批次合理大小的源数据和目标数据.\n",
        "       参数source是通过batchify得到的train_data/val_data/test_data.\n",
        "       i是具体的批次次数.\n",
        "    \"\"\"\n",
        "\n",
        "    # 首先我们确定句子长度, 它将是在bptt和len(source) - 1 - i中最小值\n",
        "    # 实质上, 前面的批次中都会是bptt的值, 只不过最后一个批次中, 句子长度\n",
        "    # 可能不够bptt的35个, 因此会变为len(source) - 1 - i的值.\n",
        "    seq_len = num\n",
        "\n",
        "    # 语言模型训练的源数据的第i批数据将是batchify的结果的切片[i:i+seq_len]\n",
        "\n",
        "    train0 = d[i:i+seq_len]\n",
        "\n",
        "\n",
        "    # 根据语言模型训练的语料规定, 它的目标数据是源数据向后移动一位\n",
        "    # 因为最后目标数据的切片会越界, 因此使用view(-1)来保证形状正常.\n",
        "\n",
        "    test0 = d[i+1:i+1+seq_len]\n",
        "    return train0,test0\n",
        "\n",
        "\n",
        "class PositionalEncoding(nn.Module):\n",
        "    def __init__(self, d_model, dropout=0, max_len=5000):\n",
        "        super(PositionalEncoding, self).__init__()\n",
        "        self.dropout = nn.Dropout(p=dropout)\n",
        " \n",
        "        pe = torch.zeros(max_len, d_model)\n",
        "        position = torch.arange(0, max_len, dtype=torch.float).unsqueeze(1)\n",
        "        div_term = torch.exp(torch.arange(0, d_model, 2).float() * (-math.log(10000.0) / d_model))\n",
        "        pe[:, 0::2] = torch.sin(position * div_term)\n",
        "        pe[:, 1::2] = torch.cos(position * div_term)\n",
        "        pe = pe.unsqueeze(0).transpose(0, 1)\n",
        "        self.register_buffer('pe', pe)\n",
        "        # pe.shape == [max_len, 1, d_model]\n",
        " \n",
        "    def forward(self, x):\n",
        "#         self.pe = self.pe.expand(-1, batch_size, -1)\n",
        "        x = x.expand(-1, -1, 512) + self.pe[:x.size(0), :]\n",
        "        return self.dropout(x)\n",
        "\n",
        "\n",
        "class TransAm(nn.Module):\n",
        "    def __init__(self, feature_size=512, num_layers=1, dropout=0):  # feature_size 表示特征维度（必须是head的整数倍）, num_layers 表示 Encoder_layer 的层数， dropout 用于防止过你和\n",
        "        super(TransAm, self).__init__()\n",
        "        self.model_type = 'Transformer'\n",
        "        self.src_mask = None\n",
        "        self.pos_encoder = PositionalEncoding(feature_size,0)  #位置编码前要做归一化，否则捕获不到位置信息\n",
        "        self.encoder_layer = nn.TransformerEncoderLayer(d_model=feature_size, nhead=8,dim_feedforward = 64, dropout=dropout)  # 这里用了八个头\n",
        "        self.transformer_encoder = nn.TransformerEncoder(self.encoder_layer, num_layers=num_layers)\n",
        "        self.decoder = nn.Linear(feature_size, 1)  # 这里用全连接层代替了decoder， 其实也可以加一下Transformer的decoder试一下效果\n",
        "        self.init_weights()\n",
        "    def init_weights(self):  \n",
        "        initrange = 0.1\n",
        "        self.decoder.bias.data.zero_()\n",
        "        self.decoder.weight.data.uniform_(-initrange, initrange)\n",
        "\n",
        "    def forward(self, src):\n",
        "#         if self.src_key_padding_mask is None:\n",
        "#             mask_key = src_padding.bool()\n",
        "#             self.src_key_padding_mask = mask_key\n",
        "        # (10,1,1)\n",
        "        src = self.pos_encoder(src)\n",
        "        # (10,1,512)\n",
        "        src = src.transpose(0,1)\n",
        "        # (1,10,512)\n",
        "        output = self.transformer_encoder(src, src_key_padding_mask=self.src_mask)  \n",
        "        # (1,10,512)\n",
        "        # output = self.decoder(output).view(10,-1)\n",
        "        output = self.decoder(output)\n",
        "        # (1,10,1)\n",
        "        return output"
      ],
      "metadata": {
        "colab": {
          "base_uri": "https://localhost:8080/"
        },
        "id": "CBtitcj1lRH2",
        "outputId": "9f3d7bc7-17ed-4a24-bd95-2c19df82b74d"
      },
      "execution_count": 84,
      "outputs": [
        {
          "output_type": "stream",
          "name": "stdout",
          "text": [
            "cuda\n"
          ]
        }
      ]
    },
    {
      "cell_type": "code",
      "source": [
        "class MyTransformer:\n",
        "  def __init__(self):\n",
        "    self.device = device\n",
        "    self.model = TransAm()\n",
        "    self.model = self.model.to(device)\n",
        "    self.criterion = nn.MSELoss()\n",
        "    self.lr = 0.00000001  # 学习率最好设置的小一些，太大的话loss会出现nan的情况\n",
        "    # optimizer = torch.optim.SGD(model.parameters(), lr=lr)\n",
        "    self.optimizer = torch.optim.AdamW(self.model.parameters(), lr=self.lr)\n",
        "    self.scheduler = torch.optim.lr_scheduler.StepLR(self.optimizer, 3, gamma=0.96)\n",
        "\n",
        "  def preprocess(self, path):\n",
        "    train_np, test_np = process(path)\n",
        "    train_np = train_np.reshape(-1)\n",
        "    test_np = test_np.reshape(-1)\n",
        "\n",
        "    self.train_set = torch.from_numpy(train_np).float().to(self.device)\n",
        "    self.test_set = torch.from_numpy(test_np).float().to(self.device)\n",
        "    self.train_np, self.test_np = train_np, test_np\n",
        "  \n",
        "  def train(self):\n",
        "    self.model.train()  # Turn on the train mode\n",
        "\n",
        "    num_epochs = 10\n",
        "    len_train = self.train_set.shape[0]\n",
        "    len_step = 1\n",
        "    len_batch = 10\n",
        "\n",
        "    for epoch in range(num_epochs):\n",
        "      total_loss = 0.\n",
        "      start_time = time.time()\n",
        "\n",
        "      # i+1+10 < len_train\n",
        "      for batch, i in enumerate(range(0, len_train-1-10, len_step)):\n",
        "          X, y = get_batch(self.train_set, i, len_batch)\n",
        "          X = X.reshape(-1, 1, 1)\n",
        "          \n",
        "          self.optimizer.zero_grad()\n",
        "\n",
        "          output = self.model(X)\n",
        "          loss = self.criterion(output.view(-1), y)\n",
        "          loss.backward()\n",
        "          torch.nn.utils.clip_grad_norm_(self.model.parameters(), 0.5)\n",
        "          self.optimizer.step()\n",
        "\n",
        "          total_loss += loss.item()\n",
        "      \n",
        "      print(f\"epoch {epoch}, total_loss = {total_loss}\")\n",
        "\n",
        "  def test(self):\n",
        "    self.model.eval()\n",
        "\n",
        "    len_test = self.test_set.shape[0]\n",
        "    predictions = []\n",
        "    for i in range(0, len_test-1):\n",
        "      X, y = get_batch(self.train_set, i, 10)\n",
        "      X = X.reshape(-1, 1, 1)\n",
        "\n",
        "      output = self.model(X)\n",
        "      output = output.view(-1)\n",
        "      output = output.detach().cpu().numpy()\n",
        "      predictions.append(output[0])\n",
        "    \n",
        "    self.pred = np.array(predictions)"
      ],
      "metadata": {
        "id": "TvtAx7YFvOui"
      },
      "execution_count": 85,
      "outputs": []
    },
    {
      "cell_type": "code",
      "source": [
        "transformer = MyTransformer()\n",
        "print(transformer.device)\n",
        "print(next(transformer.model.parameters()).device)"
      ],
      "metadata": {
        "id": "45CrIejpxw3H",
        "colab": {
          "base_uri": "https://localhost:8080/"
        },
        "outputId": "d51f6656-a3c8-47dc-e414-ddc66f7814fc"
      },
      "execution_count": 86,
      "outputs": [
        {
          "output_type": "stream",
          "name": "stdout",
          "text": [
            "cuda\n",
            "cuda:0\n"
          ]
        }
      ]
    },
    {
      "cell_type": "code",
      "source": [
        "transformer.preprocess(dirpath + 'AUD_v2.csv')\n",
        "print(transformer.train_set.shape)\n",
        "print(transformer.test_set.shape)"
      ],
      "metadata": {
        "colab": {
          "base_uri": "https://localhost:8080/"
        },
        "id": "vJ51JhOF0hC0",
        "outputId": "ddf6a267-9462-4513-94b4-88930b4134d1"
      },
      "execution_count": 87,
      "outputs": [
        {
          "output_type": "stream",
          "name": "stdout",
          "text": [
            "torch.Size([5945])\n",
            "torch.Size([556])\n"
          ]
        }
      ]
    },
    {
      "cell_type": "code",
      "source": [
        "transformer.train()"
      ],
      "metadata": {
        "colab": {
          "base_uri": "https://localhost:8080/"
        },
        "id": "DBsPxF4k0rIN",
        "outputId": "b201da84-7919-419d-98f0-cc5128ccb74f"
      },
      "execution_count": 88,
      "outputs": [
        {
          "output_type": "stream",
          "name": "stdout",
          "text": [
            "epoch 0, total_loss = 14656.76519793272\n",
            "epoch 1, total_loss = 3238.689144074917\n",
            "epoch 2, total_loss = 1183.3067346140742\n",
            "epoch 3, total_loss = 631.6729150488973\n",
            "epoch 4, total_loss = 310.8220061417669\n",
            "epoch 5, total_loss = 155.64960687654093\n",
            "epoch 6, total_loss = 102.5944653992774\n",
            "epoch 7, total_loss = 90.52035443880595\n",
            "epoch 8, total_loss = 84.03743449627655\n",
            "epoch 9, total_loss = 78.35974701627856\n"
          ]
        }
      ]
    },
    {
      "cell_type": "code",
      "source": [
        "transformer.test()"
      ],
      "metadata": {
        "id": "uvhYT4MnyLRa"
      },
      "execution_count": 89,
      "outputs": []
    },
    {
      "cell_type": "code",
      "source": [
        "pred = transformer.pred\n",
        "true = transformer.test_np[1:]\n",
        "rmse=mean_squared_error(true,pred)\n",
        "print(\"Test MSE:\",rmse)\n",
        "plt.plot(true)\n",
        "plt.plot(pred)\n",
        "plt.legend(['true','pred'])\n",
        "plt.show()"
      ],
      "metadata": {
        "colab": {
          "base_uri": "https://localhost:8080/",
          "height": 448
        },
        "id": "Za6xg3KF1KMp",
        "outputId": "579d16e7-da46-40c2-d552-d47094e750fd"
      },
      "execution_count": 90,
      "outputs": [
        {
          "output_type": "stream",
          "name": "stdout",
          "text": [
            "Test MSE: 3.6975079587589574\n"
          ]
        },
        {
          "output_type": "display_data",
          "data": {
            "text/plain": [
              "<Figure size 640x480 with 1 Axes>"
            ],
            "image/png": "[encoded data removed]"
          },
          "metadata": {}
        }
      ]
    },
    {
      "cell_type": "code",
      "source": [
        "a = pred\n",
        "b = transformer.test_np[:-1]\n",
        "c = np.diff(transformer.test_np)\n",
        "out = np.logical_or(\n",
        "      np.logical_and((b-a < 0),(c < 0)), \n",
        "      np.logical_and((b-a > 0),(c > 0))\n",
        "    )"
      ],
      "metadata": {
        "id": "E6TUtQxz2ljg"
      },
      "execution_count": 91,
      "outputs": []
    },
    {
      "cell_type": "code",
      "source": [
        "sum(out)/len(a)"
      ],
      "metadata": {
        "colab": {
          "base_uri": "https://localhost:8080/"
        },
        "id": "OZJkkXjl4E6z",
        "outputId": "4ad6c2ac-5168-40ee-daa7-e84c0aad6bdc"
      },
      "execution_count": 92,
      "outputs": [
        {
          "output_type": "execute_result",
          "data": {
            "text/plain": [
              "0.44144144144144143"
            ]
          },
          "metadata": {},
          "execution_count": 92
        }
      ]
    }
  ]
}