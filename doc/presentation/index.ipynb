{
 "cells": [
  {
   "cell_type": "markdown",
   "id": "32afcde2-ff5e-4a5f-8709-2e7a633f4e26",
   "metadata": {
    "slideshow": {
     "slide_type": "slide"
    },
    "tags": []
   },
   "source": [
    "# Title Here\n",
    "\n",
    "author1,author2,author3,author4"
   ]
  },
  {
   "cell_type": "markdown",
   "id": "f225c52f-be8f-4963-9304-49eefddf8995",
   "metadata": {
    "slideshow": {
     "slide_type": "slide"
    },
    "tags": []
   },
   "source": [
    "# Research Background\n",
    "\n",
    "The foreign exchange (FX) market is one of the world's largest financial markets, with daily trading volumes that can reach trillions of dollars.\n",
    "\n",
    "The carry trade is a popular trading strategy in the FX market, from where the investors invest in high-interest currencies by borrowing in low-interest currencies with the purpose of earning the interest rate differential. \n",
    "\n",
    "## Research Target\n",
    "\n",
    "Based on the methodologies of quantitative time series analysis, we reserach the TRI series of AUD-USD currency pair, aim to fitting a significant model with historical data and getting solid predictions of future."
   ]
  },
  {
   "cell_type": "markdown",
   "id": "5966e04c-6a5e-46f7-bf38-cc8918e77c30",
   "metadata": {
    "slideshow": {
     "slide_type": "slide"
    },
    "tags": []
   },
   "source": [
    "# Introduction\n",
    "\n",
    "In carry trade, we always hope to with \"positive carry\", i.e. \"borrow\" in low-interest currency and \"lend\" in high-interest currency.\n",
    "\n",
    "![carry](../img/carry.png)"
   ]
  },
  {
   "cell_type": "markdown",
   "id": "cfaeb4fe-68e5-46e7-b5fa-c3c578223937",
   "metadata": {
    "slideshow": {
     "slide_type": "slide"
    },
    "tags": []
   },
   "source": [
    "# Data Description\n",
    "\n",
    "Our research is based on the daily TRI series of the AUDUSD currency pair from 1997 to 2022. TRI means the total return index of carry trade, which equals to the sum of spot change and cumulative carry. \n",
    "\n",
    "$$\n",
    "TRI_{t} = SPOT_{t} + \\sum_{i=1}^{t}CARRY_{i}\n",
    "$$\n",
    "\n",
    "![tri](../img/tri.png)"
   ]
  }
 ],
 "metadata": {
  "kernelspec": {
   "display_name": "Python 3",
   "language": "python",
   "name": "python3"
  },
  "language_info": {
   "codemirror_mode": {
    "name": "ipython",
    "version": 3
   },
   "file_extension": ".py",
   "mimetype": "text/x-python",
   "name": "python",
   "nbconvert_exporter": "python",
   "pygments_lexer": "ipython3",
   "version": "3.9.6"
  }
 },
 "nbformat": 4,
 "nbformat_minor": 5
}
